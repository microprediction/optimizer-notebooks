{
  "nbformat": 4,
  "nbformat_minor": 0,
  "metadata": {
    "colab": {
      "name": "ultraopt.ipynb",
      "provenance": [],
      "authorship_tag": "ABX9TyOp+dEIiuRnr2TkSeSvp7D2",
      "include_colab_link": true
    },
    "kernelspec": {
      "name": "python3",
      "display_name": "Python 3"
    }
  },
  "cells": [
    {
      "cell_type": "markdown",
      "metadata": {
        "id": "view-in-github",
        "colab_type": "text"
      },
      "source": [
        "<a href=\"https://colab.research.google.com/github/microprediction/optimizer-notebooks/blob/main/ultraopt.ipynb\" target=\"_parent\"><img src=\"https://colab.research.google.com/assets/colab-badge.svg\" alt=\"Open In Colab\"/></a>"
      ]
    },
    {
      "cell_type": "code",
      "metadata": {
        "id": "b9ySl0TNaGEz"
      },
      "source": [
        "!pip install ultraopt\n",
        "!pip install humpday"
      ],
      "execution_count": 1,
      "outputs": []
    },
    {
      "cell_type": "code",
      "metadata": {
        "id": "25541Qb8aiS0"
      },
      "source": [
        "from ultraopt import fmin\n",
        "from humpday.objectives.classic import shekel_on_cube\n"
      ],
      "execution_count": null,
      "outputs": []
    },
    {
      "cell_type": "code",
      "metadata": {
        "id": "sxEsHHD-bGEc"
      },
      "source": [
        "def ultraopt_cube(objective,n_trials,n_dim,with_count):\n",
        "    \n",
        "    global feval_count\n",
        "    feval_count = 0\n",
        "\n",
        "    HDL = dict([ ('u'+str(i),{\"_type\":\"uniform\",\"_value\":[0.,1.]}) for i in range(n_dim)])\n",
        "\n",
        "    def _objective(config: dict) -> float:\n",
        "        global feval_count\n",
        "        feval_count += 1\n",
        "        u = [ config['u'+str(i)] for i in range(n_dim) ]\n",
        "        return objective(u)\n",
        "\n",
        "    \n",
        "    result = fmin(eval_func=_objective, config_space=HDL, optimizer=\"ETPE\", n_iterations=30)\n",
        "    best_x = [ result.best_config['u'+str(i)] for i in range(n_dim) ]\n",
        "    best_val = result.best_loss\n",
        "    return (best_val, best_x, feval_count) if with_count else (best_val, best_x)\n",
        "    \n",
        "\n"
      ],
      "execution_count": 7,
      "outputs": []
    },
    {
      "cell_type": "code",
      "metadata": {
        "colab": {
          "base_uri": "https://localhost:8080/"
        },
        "id": "UPCqzQewd-xc",
        "outputId": "47904f40-b3c3-48b9-a69a-41e1b1689398"
      },
      "source": [
        "ultraopt_cube(shekel_on_cube,n_dim=2,n_trials=50,with_count=True)"
      ],
      "execution_count": 8,
      "outputs": [
        {
          "output_type": "stream",
          "text": [
            "100%|██████████| 30/30 [00:00<00:00, 508.00trial/s, best loss: 1.226]\n"
          ],
          "name": "stdout"
        },
        {
          "output_type": "execute_result",
          "data": {
            "text/plain": [
              "(1.225535886531286, [0.5750510660703222, 0.6082177596240409], 30)"
            ]
          },
          "metadata": {
            "tags": []
          },
          "execution_count": 8
        }
      ]
    },
    {
      "cell_type": "code",
      "metadata": {
        "id": "xx4um_tgcLu4"
      },
      "source": [
        "result"
      ],
      "execution_count": null,
      "outputs": []
    },
    {
      "cell_type": "code",
      "metadata": {
        "colab": {
          "base_uri": "https://localhost:8080/",
          "height": 315
        },
        "id": "YBPZqdMEc-BH",
        "outputId": "b88430b0-8e77-4846-f579-58b049a3012d"
      },
      "source": [
        "result.plot_convergence()"
      ],
      "execution_count": 10,
      "outputs": [
        {
          "output_type": "execute_result",
          "data": {
            "text/plain": [
              "<matplotlib.axes._subplots.AxesSubplot at 0x7f7c8b967cf8>"
            ]
          },
          "metadata": {
            "tags": []
          },
          "execution_count": 10
        },
        {
          "output_type": "display_data",
          "data": {
            "image/png": "[encoded data removed]",
            "text/plain": [
              "<Figure size 432x288 with 1 Axes>"
            ]
          },
          "metadata": {
            "tags": [],
            "needs_background": "light"
          }
        }
      ]
    }
  ]
}