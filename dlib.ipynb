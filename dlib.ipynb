{
  "nbformat": 4,
  "nbformat_minor": 0,
  "metadata": {
    "colab": {
      "name": "dlib.ipynb",
      "provenance": [],
      "authorship_tag": "ABX9TyMqfJc47T+FrEHyLnkbC+rl",
      "include_colab_link": true
    },
    "kernelspec": {
      "name": "python3",
      "display_name": "Python 3"
    }
  },
  "cells": [
    {
      "cell_type": "markdown",
      "metadata": {
        "id": "view-in-github",
        "colab_type": "text"
      },
      "source": [
        "<a href=\"https://colab.research.google.com/github/microprediction/optimizer-notebooks/blob/main/dlib.ipynb\" target=\"_parent\"><img src=\"https://colab.research.google.com/assets/colab-badge.svg\" alt=\"Open In Colab\"/></a>"
      ]
    },
    {
      "cell_type": "code",
      "metadata": {
        "id": "QDojgoi30A4b"
      },
      "source": [
        "!pip install dlib\n",
        "!pip install humpday"
      ],
      "execution_count": null,
      "outputs": []
    },
    {
      "cell_type": "code",
      "metadata": {
        "id": "unSAvM-t0bif"
      },
      "source": [
        "from humpday.objectives.classic import shekel_on_cube"
      ],
      "execution_count": 5,
      "outputs": []
    },
    {
      "cell_type": "code",
      "metadata": {
        "id": "Si35X4T60Icm"
      },
      "source": [
        "from dlib import find_min_global\n",
        "def dlib_cube(objective ,n_trials,n_dim,with_count):\n",
        "    \n",
        "    global feval_count\n",
        "    feval_count = 0\n",
        "\n",
        "    lb = [ 0. for _ in range(n_dim)]\n",
        "    ub = [ 1. for _ in range(n_dim)]\n",
        "\n",
        "    def _objective(*args) -> float:\n",
        "        global feval_count\n",
        "        feval_count += 1\n",
        "        return objective(list(args))\n",
        "\n",
        "    best_x, best_val = find_min_global(_objective,lb,ub,n_trials)\n",
        " \n",
        "    return (best_val, best_x, feval_count) if with_count else (best_val, best_x)\n",
        "    \n"
      ],
      "execution_count": 11,
      "outputs": []
    },
    {
      "cell_type": "code",
      "metadata": {
        "colab": {
          "base_uri": "https://localhost:8080/"
        },
        "id": "83539THg1tZD",
        "outputId": "d30d2a8f-fe77-4cde-f601-8a21ebbc709a"
      },
      "source": [
        "dlib_cube(objective=shekel_on_cube ,n_trials=50,n_dim=5,with_count=True)"
      ],
      "execution_count": 12,
      "outputs": [
        {
          "output_type": "execute_result",
          "data": {
            "text/plain": [
              "(1.2295009172368947,\n",
              " [0.554583228477329,\n",
              "  0.6265907112716184,\n",
              "  0.6545397503616287,\n",
              "  0.4592088663620312,\n",
              "  0.5378440662417513],\n",
              " 50)"
            ]
          },
          "metadata": {
            "tags": []
          },
          "execution_count": 12
        }
      ]
    }
  ]
}