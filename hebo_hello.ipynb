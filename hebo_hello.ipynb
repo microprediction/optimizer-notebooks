{
  "nbformat": 4,
  "nbformat_minor": 0,
  "metadata": {
    "colab": {
      "name": "hebo_hello.ipynb",
      "provenance": [],
      "authorship_tag": "ABX9TyPK3Hk37dCSHtmhPF8+CogG",
      "include_colab_link": true
    },
    "kernelspec": {
      "name": "python3",
      "display_name": "Python 3"
    }
  },
  "cells": [
    {
      "cell_type": "markdown",
      "metadata": {
        "id": "view-in-github",
        "colab_type": "text"
      },
      "source": [
        "<a href=\"https://colab.research.google.com/github/microprediction/optimizer-notebooks/blob/main/hebo_hello.ipynb\" target=\"_parent\"><img src=\"https://colab.research.google.com/assets/colab-badge.svg\" alt=\"Open In Colab\"/></a>"
      ]
    },
    {
      "cell_type": "code",
      "metadata": {
        "id": "b9ySl0TNaGEz"
      },
      "source": [
        "!pip install hebo\n",
        "!pip install humpday"
      ],
      "execution_count": null,
      "outputs": []
    },
    {
      "cell_type": "code",
      "metadata": {
        "id": "xNlDoCg_FUiZ"
      },
      "source": [
        "from hebo.design_space.design_space import DesignSpace\n",
        "from hebo.optimizers.hebo import HEBO\n",
        "import pandas as pd\n",
        "import numpy  as np"
      ],
      "execution_count": 3,
      "outputs": []
    },
    {
      "cell_type": "code",
      "metadata": {
        "id": "25541Qb8aiS0"
      },
      "source": [
        "from humpday.objectives.classic import shekel_on_cube"
      ],
      "execution_count": null,
      "outputs": []
    },
    {
      "cell_type": "markdown",
      "metadata": {
        "id": "DlcCXn9wFjg7"
      },
      "source": [
        "https://pypi.org/project/HEBO/\n",
        "First optimizer I've seen to use pandas in the interface. I refrain from comment. The main thing is it won NeurIPS 2020 BBO! \n"
      ]
    },
    {
      "cell_type": "code",
      "metadata": {
        "id": "sxEsHHD-bGEc"
      },
      "source": [
        "import math\n",
        "def hebo_cube_factory(objective, n_trials, n_dim, with_count,n_suggestions=5):\n",
        "    global feval_count\n",
        "    feval_count = 0\n",
        "\n",
        "    variables = [{'name': 'u' + str(i), 'type': 'num', 'lb': 0., 'ub': 1.} for i in range(n_dim)]\n",
        "    space = DesignSpace().parse(variables)\n",
        "    opt = HEBO(space)\n",
        "\n",
        "    def _objective(params: pd.DataFrame) -> np.ndarray:\n",
        "        global feval_count\n",
        "        feval_count += len(params.index)\n",
        "        return np.array([ objective(ui) for ui in params.values ])\n",
        "\n",
        "    n_batches = int(math.floor(n_trials/n_suggestions))\n",
        "    n_remainder = n_trials - n_suggestions*n_batches\n",
        "    for i in range(n_batches):\n",
        "        rec = opt.suggest(n_suggestions=n_suggestions) # <-- don't change this\n",
        "        opt.observe(rec, _objective(rec))\n",
        "    for i in range(n_remainder):\n",
        "        rec = opt.suggest(n_suggestions=1)  # <-- don't change this\n",
        "        opt.observe(rec, _objective(rec))\n",
        "\n",
        "    best_val = opt.y.min()\n",
        "    best_ndx = np.argmin([y[0] for y in opt.y])  # I mean seriously, why make the user do this?\n",
        "    best_x = list(opt.X.values[best_ndx])\n",
        "    return (best_val, best_x, feval_count) if with_count else (best_val, best_x)\n"
      ],
      "execution_count": 15,
      "outputs": []
    },
    {
      "cell_type": "code",
      "metadata": {
        "id": "c9--C654JH36"
      },
      "source": [
        ""
      ],
      "execution_count": null,
      "outputs": []
    },
    {
      "cell_type": "code",
      "metadata": {
        "colab": {
          "base_uri": "https://localhost:8080/"
        },
        "id": "UPCqzQewd-xc",
        "outputId": "245de59e-e61e-42ab-da57-8db11abf59e8"
      },
      "source": [
        "hebo_cube_factory(shekel_on_cube,n_dim=2,n_trials=50,with_count=True, n_suggestions=15)"
      ],
      "execution_count": 16,
      "outputs": [
        {
          "output_type": "execute_result",
          "data": {
            "text/plain": [
              "(-0.6556789383463781, [0.4904228753751097, 0.48570053602045316], 50)"
            ]
          },
          "metadata": {
            "tags": []
          },
          "execution_count": 16
        }
      ]
    },
    {
      "cell_type": "code",
      "metadata": {
        "id": "YBPZqdMEc-BH"
      },
      "source": [
        ""
      ],
      "execution_count": null,
      "outputs": []
    }
  ]
}