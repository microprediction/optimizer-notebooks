{
  "nbformat": 4,
  "nbformat_minor": 0,
  "metadata": {
    "colab": {
      "name": "bayesian-optimization.ipynb",
      "provenance": [],
      "authorship_tag": "ABX9TyM3XvMsztaEjncwNjzjV98h",
      "include_colab_link": true
    },
    "kernelspec": {
      "name": "python3",
      "display_name": "Python 3"
    }
  },
  "cells": [
    {
      "cell_type": "markdown",
      "metadata": {
        "id": "view-in-github",
        "colab_type": "text"
      },
      "source": [
        "<a href=\"https://colab.research.google.com/github/microprediction/optimizer-notebooks/blob/main/bayesian_optimization.ipynb\" target=\"_parent\"><img src=\"https://colab.research.google.com/assets/colab-badge.svg\" alt=\"Open In Colab\"/></a>"
      ]
    },
    {
      "cell_type": "code",
      "metadata": {
        "id": "54DpAhQ1i2rf"
      },
      "source": [
        "!pip install bayesian-optimization\n",
        "!pip install humpday"
      ],
      "execution_count": null,
      "outputs": []
    },
    {
      "cell_type": "code",
      "metadata": {
        "id": "PX5u9DLxkU97"
      },
      "source": [
        "from humpday.objectives.classic import shekel_on_cube\n",
        "from bayes_opt import BayesianOptimization"
      ],
      "execution_count": 4,
      "outputs": []
    },
    {
      "cell_type": "code",
      "metadata": {
        "id": "Ru6VKFYQknMr"
      },
      "source": [
        "def bayesopt_cube(objective ,n_trials,n_dim,with_count):\n",
        "    \n",
        "    global feval_count\n",
        "    feval_count = 0\n",
        "\n",
        "    pbounds = dict([ ('u'+str(i),(0.,1.) ) for i in range(n_dim) ])\n",
        "\n",
        "    def _neg_objective(**kwargs) -> float:\n",
        "        global feval_count\n",
        "        feval_count += 1\n",
        "        u = [ kwargs['u'+str(i)] for i in range(n_dim)]\n",
        "        return -objective(u)\n",
        "\n",
        "    optimizer = BayesianOptimization(\n",
        "        f=_neg_objective,\n",
        "        pbounds=pbounds,\n",
        "        verbose=0, \n",
        "        random_state=1,\n",
        "    )\n",
        "\n",
        "    optimizer.maximize(\n",
        "        init_points=5,\n",
        "        n_iter=n_trials-5,\n",
        "    )\n",
        " \n",
        "    best_val = -optimizer.max['target']\n",
        "    best_x = [ optimizer.max['params']['u'+str(i)] for i in range(n_dim)  ]\n",
        "    \n",
        "    return (best_val, best_x, feval_count) if with_count else (best_val, best_x)\n",
        "    \n"
      ],
      "execution_count": 16,
      "outputs": []
    },
    {
      "cell_type": "code",
      "metadata": {
        "colab": {
          "base_uri": "https://localhost:8080/"
        },
        "id": "jyEmLE2QnKE7",
        "outputId": "2868ba84-3a69-4870-8a9f-ddd824ee78df"
      },
      "source": [
        "bayesopt_cube(objective=shekel_on_cube ,n_trials=50,n_dim=5,with_count=True)"
      ],
      "execution_count": 17,
      "outputs": [
        {
          "output_type": "execute_result",
          "data": {
            "text/plain": [
              "(1.2296775650060936,\n",
              " [0.4864314058180004,\n",
              "  0.7819517127289939,\n",
              "  0.7010998577048905,\n",
              "  0.7273454078613167,\n",
              "  0.6493626190913987],\n",
              " 50)"
            ]
          },
          "metadata": {
            "tags": []
          },
          "execution_count": 17
        }
      ]
    }
  ]
}