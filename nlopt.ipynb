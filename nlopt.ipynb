{
  "nbformat": 4,
  "nbformat_minor": 0,
  "metadata": {
    "colab": {
      "name": "nlopt.ipynb",
      "provenance": [],
      "collapsed_sections": [],
      "authorship_tag": "ABX9TyOcmet4NmOgbNCJ5LqsS8TS",
      "include_colab_link": true
    },
    "kernelspec": {
      "name": "python3",
      "display_name": "Python 3"
    }
  },
  "cells": [
    {
      "cell_type": "markdown",
      "metadata": {
        "id": "view-in-github",
        "colab_type": "text"
      },
      "source": [
        "<a href=\"https://colab.research.google.com/github/microprediction/optimizer-notebooks/blob/main/nlopt.ipynb\" target=\"_parent\"><img src=\"https://colab.research.google.com/assets/colab-badge.svg\" alt=\"Open In Colab\"/></a>"
      ]
    },
    {
      "cell_type": "code",
      "metadata": {
        "id": "WbzWflYs2jC9"
      },
      "source": [
        "!pip install nlopt\n",
        "!pip install git+https://github.com/microprediction/humpday"
      ],
      "execution_count": null,
      "outputs": []
    },
    {
      "cell_type": "code",
      "metadata": {
        "id": "XXHLqKMoMgTn"
      },
      "source": [
        "# Example of using global optimizers from NLOPT"
      ],
      "execution_count": null,
      "outputs": []
    },
    {
      "cell_type": "code",
      "metadata": {
        "colab": {
          "base_uri": "https://localhost:8080/"
        },
        "id": "Dd34OCE620kM",
        "outputId": "96ad629f-787b-4040-e8fa-dfc023e583d8"
      },
      "source": [
        "# From the tutorial\n",
        "import nlopt\n",
        "from numpy import *\n",
        "def myfunc(x, grad):\n",
        "    return sqrt(x[1])\n",
        "opt = nlopt.opt(nlopt.GN_DIRECT, 2)\n",
        "opt.set_lower_bounds([0, 0])\n",
        "opt.set_upper_bounds([1, 1])\n",
        "opt.set_min_objective(myfunc)\n",
        "opt.set_maxeval(50)\n",
        "opt.set_xtol_rel(1e-2)\n",
        "x = opt.optimize([0.5, 0.5])\n",
        "minf = opt.last_optimum_value()\n",
        "print(\"optimum at \", x[0], x[1])\n",
        "print(\"minimum value = \", minf)\n",
        "print(\"result code = \", opt.last_optimize_result())"
      ],
      "execution_count": 11,
      "outputs": [
        {
          "output_type": "stream",
          "text": [
            "optimum at  0.5 0.018518518518518545\n",
            "minimum value =  0.13608276348795445\n",
            "result code =  5\n"
          ],
          "name": "stdout"
        }
      ]
    },
    {
      "cell_type": "code",
      "metadata": {
        "id": "OX0-6W8D8NAE"
      },
      "source": [
        "# Shape it a little...\n",
        "NLOPTIMIZERS = {'gn_direct':nlopt.GN_DIRECT}\n",
        "\n",
        "def nlpopt_cube(objective ,n_trials,n_dim, with_count, method='gn_direct'):\n",
        "    \n",
        "    optim = NLOPTIMIZERS[method]\n",
        "\n",
        "    global feval_count\n",
        "    feval_count = 0\n",
        "\n",
        "    lb = [ 0. for _ in range(n_dim)]\n",
        "    ub = [ 1. for _ in range(n_dim)]\n",
        "\n",
        "    def _objective(u, grad) -> float:\n",
        "        global feval_count\n",
        "        feval_count += 1\n",
        "        return objective(u)\n",
        "\n",
        "    opt = nlopt.opt(optim, n_dim)\n",
        "    opt.set_lower_bounds(lb)\n",
        "    opt.set_upper_bounds(ub)\n",
        "    opt.set_min_objective(_objective)\n",
        "    opt.set_maxeval(n_trials-1)             # Groan\n",
        "    best_x = opt.optimize([0.5]*n_dim)\n",
        "    best_val = _objective(best_x,grad=None) # <-- Stupid\n",
        " \n",
        "    return (best_val, best_x, feval_count) if with_count else (best_val, best_x)"
      ],
      "execution_count": 39,
      "outputs": []
    },
    {
      "cell_type": "code",
      "metadata": {
        "colab": {
          "base_uri": "https://localhost:8080/"
        },
        "id": "cLSQ45FG9-ns",
        "outputId": "b347e3ab-002f-46ab-a327-553112688b89"
      },
      "source": [
        "from humpday.objectives.classic import shekel_on_cube\n",
        "best_val, best_x, feval_count = nlpopt_cube(shekel_on_cube ,n_trials=50,n_dim=5, with_count=True, method='gn_direct')\n",
        "print(feval_count)"
      ],
      "execution_count": 36,
      "outputs": [
        {
          "output_type": "stream",
          "text": [
            "51\n"
          ],
          "name": "stdout"
        }
      ]
    },
    {
      "cell_type": "code",
      "metadata": {
        "id": "PNNqWaNYERVI"
      },
      "source": [
        ""
      ],
      "execution_count": null,
      "outputs": []
    }
  ]
}